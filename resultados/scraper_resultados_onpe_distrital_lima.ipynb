{
 "cells": [
  {
   "cell_type": "code",
   "execution_count": 13,
   "metadata": {},
   "outputs": [],
   "source": [
    "import requests\n",
    "import pandas as pd\n",
    "import glob\n",
    "import os"
   ]
  },
  {
   "cell_type": "code",
   "execution_count": 14,
   "metadata": {},
   "outputs": [],
   "source": [
    "# DISTRITAL - solo Lima Metropolitana\n",
    "for distrito in range(1,44):\n",
    "    url = f\"https://api.resultadoserm2022.onpe.gob.pe/results/03/1401{distrito:02d}\"\n",
    "    headers = {\n",
    "        \"User-Agent\": \"Mozilla/5.0 (Linux; Android 6.0; Nexus 5 Build/MRA58N) AppleWebKit/537.36 (KHTML, like Gecko) Chrome/106.0.0.0 Mobile Safari/537.36\",\n",
    "    }\n",
    "\n",
    "    resp = requests.get(url, headers=headers)\n",
    "\n",
    "    data = resp.json()['results']\n",
    "\n",
    "    fecha = resp.json()['generals']['actData']['FECHA']\n",
    "    hora = resp.json()['generals']['actData']['HORA']\n",
    "    avance = resp.json()['generals']['actData']['POR_AVANCE']\n",
    "\n",
    "    if data != []:\n",
    "        df = pd.DataFrame(data)\n",
    "        df['cod_distrito'] = f'{distrito:02d}'\n",
    "        df['fecha'] = fecha\n",
    "        df['hora'] = hora\n",
    "        df['avance'] = avance\n",
    "        df = df[~(df['C_CODI_AGP'].isin(['80','81']))]\n",
    "        df = df.dropna(subset=['C_CODI_AGP'])\n",
    "        df.to_csv(f\"resultados_distritales_lima/1401{distrito:02d}.csv\")\n"
   ]
  },
  {
   "cell_type": "code",
   "execution_count": 15,
   "metadata": {},
   "outputs": [
    {
     "name": "stdout",
     "output_type": "stream",
     "text": [
      "Resultant CSV after joining all CSV files at a particular location...\n"
     ]
    }
   ],
   "source": [
    "# setting the path for joining multiple files\n",
    "files = os.path.join(\"resultados_distritales_lima\", \"*.csv\")\n",
    "\n",
    "# list of merged files returned\n",
    "files = glob.glob(files)\n",
    "\n",
    "print(\"Resultant CSV after joining all CSV files at a particular location...\");\n",
    "\n",
    "li = []\n",
    "\n",
    "for filename in files:\n",
    "    df = pd.read_csv(filename, index_col=None, header=0, converters = {'cod_distrito': str.strip, 'avance': str.strip})\n",
    "    li.append(df)\n",
    "\n",
    "frame = pd.concat(li, axis=0, ignore_index=True).drop(columns=['Unnamed: 0'])\n",
    "frame = frame.sort_values(by=['cod_distrito', 'POR_VALIDOS'])\n",
    "frame = frame.reset_index(drop=True)\n",
    "\n",
    "dict_distritos_lima = {\n",
    "    \"01\":\"LIMA\",\n",
    "    \"02\":\"ANCÓN\",\n",
    "    \"03\":\"ATE\",\n",
    "    \"04\":\"BREÑA\",\n",
    "    \"05\":\"CARABAYLLO\",\n",
    "    \"06\":\"COMAS\",\n",
    "    \"07\":\"CHACLACAYO\",\n",
    "    \"08\":\"CHORRILLOS\",\n",
    "    \"09\":\"LA VICTORIA\",\n",
    "    \"10\":\"LA MOLINA\",\n",
    "    \"11\":\"LINCE\",\n",
    "    \"12\":\"LURIGANCHO\",\n",
    "    \"13\":\"LURÍN\",\n",
    "    \"14\":\"MAGDALENA DEL MAR\",\n",
    "    \"15\":\"MIRAFLORES\",\n",
    "    \"16\":\"PACHACAMAC\",\n",
    "    \"17\":\"PUEBLO LIBRE\",\n",
    "    \"18\":\"PUCUSANA\",\n",
    "    \"19\":\"PUENTE PIEDRA\",\n",
    "    \"20\":\"PUNTA HERMOSA\",\n",
    "    \"21\":\"PUNTA NEGRA\",\n",
    "    \"22\":\"RÍMAC\",\n",
    "    \"23\":\"SAN BARTOLO\",\n",
    "    \"24\":\"SAN ISIDRO\",\n",
    "    \"25\":\"BARRANCO\",\n",
    "    \"26\":\"SAN MARTIN DE PORRES\",\n",
    "    \"27\":\"SAN MIGUEL\",\n",
    "    \"28\":\"SANTA MARIA DEL MAR\",\n",
    "    \"29\":\"SANTA ROSA\",\n",
    "    \"30\":\"SANTIAGO DE SURCO\",\n",
    "    \"31\":\"SURQUILLO\",\n",
    "    \"32\":\"VILLA MARIA DEL TRIUNFO\",\n",
    "    \"33\":\"JESUS MARIA\",\n",
    "    \"34\":\"INDEPENDENCIA\",\n",
    "    \"35\":\"EL AGUSTINO\",\n",
    "    \"36\":\"SAN JUAN DE MIRAFLORES\",\n",
    "    \"37\":\"SAN JUAN DE LURIGANCHO\",\n",
    "    \"38\":\"SAN LUIS\",\n",
    "    \"39\":\"CIENEGUILLA\",\n",
    "    \"40\":\"SAN BORJA\",\n",
    "    \"41\":\"VILLA EL SALVADOR\",\n",
    "    \"42\":\"LOS OLIVOS\",\n",
    "    \"43\":\"SANTA ANITA\",\n",
    "}\n",
    "\n",
    "frame['distrito'] = frame['cod_distrito'].map(dict_distritos_lima)\n"
   ]
  },
  {
   "cell_type": "code",
   "execution_count": 16,
   "metadata": {},
   "outputs": [],
   "source": [
    "# agregando nombres de candidatos\n",
    "df_candidatos = pd.read_csv('../candidatos/solo_alcaldes_distritales_lima_metropolitana.csv')\n",
    "df_candidatos\n",
    "\n",
    "\n",
    "dict_tildes = {\n",
    "    \"ANCON\":\"ANCÓN\",\n",
    "    \"LURIN\":\"LURÍN\",\n",
    "    \"RIMAC\":\"RÍMAC\",\n",
    "}\n",
    "# dict_correcciones_partidos = {\n",
    "#     \"VICTORIA AMAZONENSE\":\"MOVIMIENTO REGIONAL VICTORIA AMAZONENSE\",\n",
    "#     \"ALIANZA GOBIERNO UNIDAD Y ACCION\":\"ALIANZA GOBIERNO UNIDAD Y ACCION - AGUA\",\n",
    "#     \"HATARIY APURIMAC\":\"MOVIMIENTO REGIONAL HATARIY APURIMAC\",\n",
    "#     \"TRABAJO MAS TRABAJO\":\"MOVIMIENTO REGIONAL TRABAJO MAS TRABAJO\",\n",
    "#     \"MOVIMIENTO CIVICO PERUANO\":\"NUEVA ESPERANZA\",\n",
    "#     \"MOVIMENTO INDEPENDIENTE REGIONAL FUERZA TACNA\":\"MOVIMIENTO INDEPENDIENTE REGIONAL FUERZA TACNA\"\n",
    "# }\n",
    "df_candidatos['postulaDistrito'] = df_candidatos['postulaDistrito'].replace(dict_tildes)\n",
    "# df_candidatos['organizacionPolitica'] = df_candidatos['organizacionPolitica'].replace(dict_correcciones_partidos)\n",
    "\n",
    "\n",
    "df_final = pd.merge(frame, df_candidatos[['postulaDistrito', 'organizacionPolitica', 'nombreCompleto']],  how='left', left_on=['distrito','AGRUPACION'], right_on = ['postulaDistrito','organizacionPolitica'])\n",
    "df_final = df_final[df_final['distrito'] != 'LIMA']\n",
    "df_final.to_csv('resultados_distrital_lima.csv')"
   ]
  }
 ],
 "metadata": {
  "kernelspec": {
   "display_name": "Python 3.9.7 64-bit",
   "language": "python",
   "name": "python3"
  },
  "language_info": {
   "codemirror_mode": {
    "name": "ipython",
    "version": 3
   },
   "file_extension": ".py",
   "mimetype": "text/x-python",
   "name": "python",
   "nbconvert_exporter": "python",
   "pygments_lexer": "ipython3",
   "version": "3.9.7"
  },
  "orig_nbformat": 4,
  "vscode": {
   "interpreter": {
    "hash": "916dbcbb3f70747c44a77c7bcd40155683ae19c65e1c03b4aa3499c5328201f1"
   }
  }
 },
 "nbformat": 4,
 "nbformat_minor": 2
}
