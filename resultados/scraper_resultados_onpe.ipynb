{
 "cells": [
  {
   "cell_type": "code",
   "execution_count": 13,
   "metadata": {},
   "outputs": [],
   "source": [
    "import requests\n",
    "import pandas as pd\n",
    "import glob\n",
    "import os"
   ]
  },
  {
   "cell_type": "code",
   "execution_count": 14,
   "metadata": {},
   "outputs": [],
   "source": [
    "# PROVINCIAL SOLO LIMA METROPOLITANA\n",
    "from numpy import NAN\n",
    "\n",
    "\n",
    "url = \"https://api.resultadoserm2022.onpe.gob.pe/results/03/140100\"\n",
    "headers = {\n",
    "    \"User-Agent\": \"Mozilla/5.0 (Linux; Android 6.0; Nexus 5 Build/MRA58N) AppleWebKit/537.36 (KHTML, like Gecko) Chrome/106.0.0.0 Mobile Safari/537.36\",\n",
    "}\n",
    "\n",
    "resp = requests.get(url, headers=headers)\n",
    "\n",
    "data = resp.json()['results']\n",
    "\n",
    "fecha = resp.json()['generals']['actData']['FECHA']\n",
    "hora = resp.json()['generals']['actData']['HORA']\n",
    "avance = resp.json()['generals']['actData']['POR_AVANCE']\n",
    "\n",
    "if data != []:\n",
    "    df = pd.DataFrame(data)\n",
    "    df['fecha'] = fecha\n",
    "    df['hora'] = hora\n",
    "    df['avance'] = avance\n",
    "    df = df[~(df['C_CODI_AGP'].isin(['80','81']))]\n",
    "    df = df.dropna(subset=['C_CODI_AGP'])\n",
    "    df.to_csv(f\"lima_metropolitana.csv\")"
   ]
  },
  {
   "cell_type": "code",
   "execution_count": 15,
   "metadata": {},
   "outputs": [],
   "source": [
    "# REGIONAL\n",
    "for departamento in range(1,26):\n",
    "    url = f\"https://api.resultadoserm2022.onpe.gob.pe/results/01/{departamento:02d}0000\"\n",
    "    headers = {\n",
    "        \"User-Agent\": \"Mozilla/5.0 (Linux; Android 6.0; Nexus 5 Build/MRA58N) AppleWebKit/537.36 (KHTML, like Gecko) Chrome/106.0.0.0 Mobile Safari/537.36\",\n",
    "    }\n",
    "\n",
    "    resp = requests.get(url, headers=headers)\n",
    "\n",
    "    data = resp.json()['results']\n",
    "\n",
    "    fecha = resp.json()['generals']['actData']['FECHA']\n",
    "    hora = resp.json()['generals']['actData']['HORA']\n",
    "    avance = resp.json()['generals']['actData']['POR_AVANCE']\n",
    "\n",
    "    if data != []:\n",
    "        df = pd.DataFrame(data)\n",
    "        df['departamento'] = f'{departamento:02d}'\n",
    "        df['fecha'] = fecha\n",
    "        df['hora'] = hora\n",
    "        df['avance'] = avance\n",
    "        df = df[~(df['C_CODI_AGP'].isin(['80','81']))]\n",
    "        df = df.dropna(subset=['C_CODI_AGP'])\n",
    "        df.to_csv(f\"resultados_regionales/{departamento:02d}0000.csv\")\n"
   ]
  },
  {
   "cell_type": "code",
   "execution_count": 16,
   "metadata": {},
   "outputs": [
    {
     "name": "stdout",
     "output_type": "stream",
     "text": [
      "Resultant CSV after joining all CSV files at a particular location...\n"
     ]
    }
   ],
   "source": [
    "# setting the path for joining multiple files\n",
    "files = os.path.join(\"resultados_regionales\", \"*.csv\")\n",
    "\n",
    "# list of merged files returned\n",
    "files = glob.glob(files)\n",
    "\n",
    "print(\"Resultant CSV after joining all CSV files at a particular location...\");\n",
    "\n",
    "li = []\n",
    "\n",
    "for filename in files:\n",
    "    df = pd.read_csv(filename, index_col=None, header=0, converters = {'departamento': str.strip, 'avance': str.strip})\n",
    "    \n",
    "    li.append(df)\n",
    "\n",
    "frame = pd.concat(li, axis=0, ignore_index=True).drop(columns=['Unnamed: 0'])\n",
    "frame = frame.sort_values(by=['departamento', 'POR_VALIDOS'])\n",
    "frame = frame.reset_index(drop=True)\n",
    "frame.to_csv('resultados_regional.csv')\n",
    "\n",
    "# # joining files with concat and read_csv\n",
    "# df_resultados = pd.concat(map(pd.read_csv, files), ignore_index=True).drop(columns=['Unnamed: 0'])\n",
    "# df_resultados.to_csv('resultados_regional.csv')\n"
   ]
  }
 ],
 "metadata": {
  "kernelspec": {
   "display_name": "Python 3.9.7 64-bit",
   "language": "python",
   "name": "python3"
  },
  "language_info": {
   "codemirror_mode": {
    "name": "ipython",
    "version": 3
   },
   "file_extension": ".py",
   "mimetype": "text/x-python",
   "name": "python",
   "nbconvert_exporter": "python",
   "pygments_lexer": "ipython3",
   "version": "3.9.7"
  },
  "orig_nbformat": 4,
  "vscode": {
   "interpreter": {
    "hash": "916dbcbb3f70747c44a77c7bcd40155683ae19c65e1c03b4aa3499c5328201f1"
   }
  }
 },
 "nbformat": 4,
 "nbformat_minor": 2
}
