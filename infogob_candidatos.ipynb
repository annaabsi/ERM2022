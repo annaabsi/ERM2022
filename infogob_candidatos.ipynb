{
 "cells": [
  {
   "cell_type": "code",
   "execution_count": null,
   "metadata": {},
   "outputs": [],
   "source": [
    "import pandas as pd\n",
    "import requests\n",
    "import urllib.parse\n",
    "import urllib3\n",
    "urllib3.disable_warnings(urllib3.exceptions.InsecureRequestWarning)"
   ]
  },
  {
   "cell_type": "code",
   "execution_count": null,
   "metadata": {},
   "outputs": [],
   "source": [
    "# LISTAR CANDIDATO\n",
    "\n",
    "candidatos = pd.read_csv('base_datos_final.csv')\n",
    "dict = {}\n",
    "for dni_candidato in candidatos['txDocumentoIdentidad']:\n",
    "    try:\n",
    "        url = \"https://infogob.jne.gob.pe/Politico/ListarPolitico\"\n",
    "        headers = {\"User-Agent\": \"Mozilla/5.0 (Macintosh; Intel Mac OS X 10.14; rv:66.0) Gecko/20100101 Firefox/66.0\"}\n",
    "        body = {\"IdDNI\": dni_candidato, \"token\":\"cA6%2B6LtErj8=6L\"}\n",
    "        resp = requests.post(url=url, headers=headers, data=body, verify=False)\n",
    "        data = resp.json()[\"Data\"][0][\"TxRutaPolitico\"][-14:]\n",
    "        data_encoded = urllib.parse.quote(data.encode('utf8'))\n",
    "        dict[dni_candidato] = data_encoded\n",
    "        print(data_encoded)\n",
    "    except:\n",
    "        continue\n",
    "df = pd.DataFrame(dict.items(), columns=[\"DNI\",\"URL\"])\n",
    "df.to_csv(\"dnis_urls.csv\")"
   ]
  }
 ],
 "metadata": {
  "interpreter": {
   "hash": "916dbcbb3f70747c44a77c7bcd40155683ae19c65e1c03b4aa3499c5328201f1"
  },
  "kernelspec": {
   "display_name": "Python 3.9.7 64-bit",
   "language": "python",
   "name": "python3"
  },
  "language_info": {
   "name": "python",
   "version": "3.9.7"
  },
  "orig_nbformat": 4
 },
 "nbformat": 4,
 "nbformat_minor": 2
}
