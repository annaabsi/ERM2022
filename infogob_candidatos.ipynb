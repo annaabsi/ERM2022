{
 "cells": [
  {
   "cell_type": "code",
   "execution_count": null,
   "metadata": {},
   "outputs": [],
   "source": [
    "import pandas as pd\n",
    "import requests\n",
    "import urllib.parse\n",
    "import urllib3\n",
    "urllib3.disable_warnings(urllib3.exceptions.InsecureRequestWarning)"
   ]
  },
  {
   "cell_type": "code",
   "execution_count": null,
   "metadata": {},
   "outputs": [],
   "source": [
    "# LISTAR CANDIDATOS\n",
    "\n",
    "#candidatos = pd.read_csv('gobernadores_regionales.csv')\n",
    "candidatos = pd.read_csv('vicegobernadores_regionales.csv')\n",
    "\n",
    "dict = {}\n",
    "for dni_candidato in candidatos['txDocumentoIdentidad']:\n",
    "    try:\n",
    "        url = \"https://infogob.jne.gob.pe/Politico/ListarPolitico\"\n",
    "        headers = {\"User-Agent\": \"Mozilla/5.0 (Macintosh; Intel Mac OS X 10.14; rv:66.0) Gecko/20100101 Firefox/66.0\"}\n",
    "        body = {\"IdDNI\": dni_candidato, \"token\":\"cA6%2B6LtErj8=6L\"}\n",
    "        resp = requests.post(url=url, headers=headers, data=body, verify=False)\n",
    "        data = resp.json()[\"Data\"][0][\"TxRutaPolitico\"].split(\"partidario_\",1)[1]\n",
    "        data_encoded = urllib.parse.quote(data.encode('utf8'))\n",
    "        dict[dni_candidato] = data_encoded\n",
    "        print(data_encoded)\n",
    "    except:\n",
    "        continue\n",
    "df = pd.DataFrame(dict.items(), columns=[\"DNI\",\"URL\"])\n",
    "#df.to_csv(\"dnis_urls_gobernadores_regionales.csv\")\n",
    "df.to_csv(\"dnis_urls_vicegobernadores_regionales.csv\")"
   ]
  }
 ],
 "metadata": {
  "interpreter": {
   "hash": "916dbcbb3f70747c44a77c7bcd40155683ae19c65e1c03b4aa3499c5328201f1"
  },
  "kernelspec": {
   "display_name": "Python 3.9.7 64-bit",
   "language": "python",
   "name": "python3"
  },
  "language_info": {
   "codemirror_mode": {
    "name": "ipython",
    "version": 3
   },
   "file_extension": ".py",
   "mimetype": "text/x-python",
   "name": "python",
   "nbconvert_exporter": "python",
   "pygments_lexer": "ipython3",
   "version": "3.9.7"
  },
  "orig_nbformat": 4
 },
 "nbformat": 4,
 "nbformat_minor": 2
}
