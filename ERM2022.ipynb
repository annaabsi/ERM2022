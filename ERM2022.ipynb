{
 "cells": [
  {
   "cell_type": "code",
   "execution_count": 2,
   "metadata": {},
   "outputs": [],
   "source": [
    "import pandas as pd\n",
    "import requests"
   ]
  },
  {
   "cell_type": "code",
   "execution_count": 9,
   "metadata": {},
   "outputs": [],
   "source": [
    "# REGIONALES \n",
    "# primero 62\n",
    "# ultimo 16779\n",
    "df_regionales = pd.read_json('regionales.json')\n",
    "df_regionales.to_csv('regionales.csv')"
   ]
  },
  {
   "cell_type": "code",
   "execution_count": 10,
   "metadata": {},
   "outputs": [],
   "source": [
    "# PROVINCIALES\n",
    "# primero 17\n",
    "# ultimo 16856\n",
    "df_provinciales = pd.read_json('provinciales.json')\n",
    "df_provinciales.to_csv('provinciales.csv')"
   ]
  },
  {
   "cell_type": "code",
   "execution_count": 11,
   "metadata": {},
   "outputs": [],
   "source": [
    "# DISTRITALES\n",
    "# primero 19\n",
    "# ultimo 16860\n",
    "df_distritales = pd.read_json('distritales.json')\n",
    "df_distritales.to_csv('distritales.csv')"
   ]
  },
  {
   "cell_type": "code",
   "execution_count": null,
   "metadata": {},
   "outputs": [],
   "source": [
    "# LISTA DE CANDIDATOS - NACIONAL\n",
    "\n",
    "for id_solicitud_lista in range(16860):\n",
    "    url = f'https://apiplataformaelectoral.jne.gob.pe/api/v1/candidato/candidatos-lista-internas/{id_solicitud_lista}'\n",
    "    resp = requests.get(url=url, verify=False)\n",
    "    data = resp.json()['data']\n",
    "    if data != []:\n",
    "        df = pd.DataFrame(data)\n",
    "        df = df.drop(['archivoBase64'], axis=1)\n",
    "        df['idSolicitudLista'] = id_solicitud_lista\n",
    "        df.to_csv(f\"listas/{id_solicitud_lista}.csv\")"
   ]
  },
  {
   "cell_type": "code",
   "execution_count": 14,
   "metadata": {},
   "outputs": [],
   "source": [
    "# LIMPIEZA\n",
    "df_candidatos = pd.read_csv('candidatos_general.csv')\n",
    "df_partidos = pd.read_csv('partidos_general.csv')\n",
    "df_candidatos_final = df_candidatos[df_candidatos.idSolicitudLista.isin(df_partidos.idSolicitudLista)]\n",
    "df_candidatos_final.to_csv('candidatos_general_limpio.csv')"
   ]
  },
  {
   "cell_type": "code",
   "execution_count": 4,
   "metadata": {},
   "outputs": [],
   "source": [
    "# ELIMINADOS\n",
    "df_candidatos_eliminados = df_candidatos[~df_candidatos.idSolicitudLista.isin(df_partidos.idSolicitudLista)]\n",
    "df_candidatos_eliminados.to_csv('candidatos_general_eliminados.csv')"
   ]
  },
  {
   "cell_type": "code",
   "execution_count": 21,
   "metadata": {},
   "outputs": [],
   "source": [
    "# MERGE\n",
    "\n",
    "df1 = pd.read_csv('candidatos_general_limpio.csv')\n",
    "df2 = pd.read_csv('partidos_general.csv')\n",
    "\n",
    "df_merged = df1.merge(df2, how='inner', on='idSolicitudLista').drop(columns=['Unnamed: 0.1_x','Unnamed: 0_x','idListaCandidatoInt','idTipoCandidato','idTipoDocumento','txTipoDocumento','idCargoEleccion','txSexo','Unnamed: 0.1_y','Unnamed: 0_y','numCandidatos','idTipoEleccion','numTotalCandidatoHombre','numTotalCandidatoMujer','fgFormula','numNumeroCandidato','fgTieneAccesitario','numTotalAccesitarios','numTotalObligatorios'])\n",
    "\n",
    "df_merged.to_csv('base_datos_final.csv')"
   ]
  },
  {
   "cell_type": "code",
   "execution_count": 6,
   "metadata": {},
   "outputs": [
    {
     "data": {
      "text/plain": [
       "147"
      ]
     },
     "execution_count": 6,
     "metadata": {},
     "output_type": "execute_result"
    }
   ],
   "source": [
    "# Numero de partidos: 147\n",
    "df2 = pd.read_csv('partidos_general.csv')\n",
    "numero_partidos = df2['txOrganizacionPolitica'].nunique()\n",
    "numero_partidos"
   ]
  },
  {
   "cell_type": "code",
   "execution_count": 21,
   "metadata": {},
   "outputs": [],
   "source": [
    "# Numero de apellidos unicos: 107330 de 135056 DNIs\n",
    "df3 = pd.read_csv('base_datos_final.csv')\n",
    "df3['Apellidos'] = (df3['txNombreCompleto'].str.split().str[-2:].str.join(' '))\n",
    "personas_unicas = df3['txDocumentoIdentidad'].nunique()\n",
    "apellidos_unicos = df3['Apellidos'].nunique()\n",
    "df3.to_csv('base_datos_final.csv')"
   ]
  },
  {
   "cell_type": "code",
   "execution_count": 20,
   "metadata": {},
   "outputs": [
    {
     "data": {
      "text/plain": [
       "0    42163374\n",
       "Name: txDocumentoIdentidad, dtype: int64"
      ]
     },
     "execution_count": 20,
     "metadata": {},
     "output_type": "execute_result"
    }
   ],
   "source": [
    "# DNI duplicados: 369 registros, 184 personas\n",
    "dni_duplicados = df3[df3['txDocumentoIdentidad'].duplicated(keep=False)]\n",
    "dni_duplicados.to_csv('dni_duplicados.csv')\n",
    "personas_unicas = dni_duplicados['txDocumentoIdentidad'].nunique()\n",
    "personas_unicas\n",
    "moda = dni_duplicados['txDocumentoIdentidad'].mode()\n",
    "moda"
   ]
  },
  {
   "cell_type": "code",
   "execution_count": 14,
   "metadata": {},
   "outputs": [],
   "source": [
    "# Elecciones regionales: gobernadores y vice gobernadores\n",
    "df_regionales_gobernadores = pd.read_csv('base_datos_final.csv')\n",
    "df_regionales_gobernadores = df_regionales_gobernadores[df_regionales_gobernadores['txCargoEleccion']=='GOBERNADOR REGIONAL'].reset_index()\n",
    "df_regionales_gobernadores.to_csv('gobernadores_regionales.csv')\n",
    "df_regionales_vicegobernadores = pd.read_csv('base_datos_final.csv')\n",
    "df_regionales_vicegobernadores = df_regionales_vicegobernadores[df_regionales_vicegobernadores['txCargoEleccion']=='VICEGOBERNADOR REGIONAL'].reset_index()\n",
    "df_regionales_vicegobernadores.to_csv('vicegobernadores_regionales.csv')"
   ]
  },
  {
   "cell_type": "code",
   "execution_count": null,
   "metadata": {},
   "outputs": [],
   "source": [
    "# Elecciones provinciales: alcaldes\n",
    "df_provinciales_alcaldes = pd.read_csv('base_datos_final.csv')\n",
    "df_provinciales_alcaldes = df_provinciales_alcaldes[df_provinciales_alcaldes['txCargoEleccion']=='ALCALDE PROVINCIAL'].reset_index()\n",
    "df_provinciales_alcaldes.to_csv('alcaldes_provinciales.csv')"
   ]
  }
 ],
 "metadata": {
  "interpreter": {
   "hash": "916dbcbb3f70747c44a77c7bcd40155683ae19c65e1c03b4aa3499c5328201f1"
  },
  "kernelspec": {
   "display_name": "Python 3.9.7 64-bit",
   "language": "python",
   "name": "python3"
  },
  "language_info": {
   "codemirror_mode": {
    "name": "ipython",
    "version": 3
   },
   "file_extension": ".py",
   "mimetype": "text/x-python",
   "name": "python",
   "nbconvert_exporter": "python",
   "pygments_lexer": "ipython3",
   "version": "3.9.7"
  },
  "orig_nbformat": 4
 },
 "nbformat": 4,
 "nbformat_minor": 2
}
