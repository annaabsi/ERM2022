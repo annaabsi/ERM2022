{
 "cells": [
  {
   "cell_type": "code",
   "execution_count": 7,
   "metadata": {},
   "outputs": [],
   "source": [
    "import pandas as pd\n",
    "import requests\n"
   ]
  },
  {
   "cell_type": "code",
   "execution_count": 9,
   "metadata": {},
   "outputs": [],
   "source": [
    "# REGIONALES \n",
    "# primero 62\n",
    "# ultimo 16779\n",
    "df_regionales = pd.read_json('regionales.json')\n",
    "df_regionales.to_csv('regionales.csv')"
   ]
  },
  {
   "cell_type": "code",
   "execution_count": 10,
   "metadata": {},
   "outputs": [],
   "source": [
    "# PROVINCIALES\n",
    "# primero 17\n",
    "# ultimo 16856\n",
    "df_provinciales = pd.read_json('provinciales.json')\n",
    "df_provinciales.to_csv('provinciales.csv')"
   ]
  },
  {
   "cell_type": "code",
   "execution_count": 11,
   "metadata": {},
   "outputs": [],
   "source": [
    "# DISTRITALES\n",
    "# primero 19\n",
    "# ultimo 16860\n",
    "df_distritales = pd.read_json('distritales.json')\n",
    "df_distritales.to_csv('distritales.csv')"
   ]
  },
  {
   "cell_type": "code",
   "execution_count": null,
   "metadata": {},
   "outputs": [],
   "source": [
    "# LISTA DE CANDIDATOS - NACIONAL\n",
    "\n",
    "for id_solicitud_lista in range(16860):\n",
    "    url = f'https://apiplataformaelectoral.jne.gob.pe/api/v1/candidato/candidatos-lista-internas/{id_solicitud_lista}'\n",
    "    resp = requests.get(url=url, verify=False)\n",
    "    data = resp.json()['data']\n",
    "    if data != []:\n",
    "        df = pd.DataFrame(data)\n",
    "        df = df.drop(['archivoBase64'], axis=1)\n",
    "        df['idSolicitudLista'] = id_solicitud_lista\n",
    "        df.to_csv(f\"listas/{id_solicitud_lista}.csv\")"
   ]
  }
 ],
 "metadata": {
  "interpreter": {
   "hash": "916dbcbb3f70747c44a77c7bcd40155683ae19c65e1c03b4aa3499c5328201f1"
  },
  "kernelspec": {
   "display_name": "Python 3.9.7 64-bit",
   "language": "python",
   "name": "python3"
  },
  "language_info": {
   "codemirror_mode": {
    "name": "ipython",
    "version": 3
   },
   "file_extension": ".py",
   "mimetype": "text/x-python",
   "name": "python",
   "nbconvert_exporter": "python",
   "pygments_lexer": "ipython3",
   "version": "3.9.7"
  },
  "orig_nbformat": 4
 },
 "nbformat": 4,
 "nbformat_minor": 2
}
