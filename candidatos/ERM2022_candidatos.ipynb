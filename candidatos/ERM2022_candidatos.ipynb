{
 "cells": [
  {
   "cell_type": "code",
   "execution_count": 2,
   "metadata": {},
   "outputs": [],
   "source": [
    "import pandas as pd\n",
    "import requests"
   ]
  },
  {
   "cell_type": "code",
   "execution_count": null,
   "metadata": {},
   "outputs": [],
   "source": [
    "# REGIONALES (candidatos 267 listas)\n",
    "df_regionales = pd.read_json('regionales.json')\n",
    "df_regionales.to_csv('regionales.csv')"
   ]
  },
  {
   "cell_type": "code",
   "execution_count": null,
   "metadata": {},
   "outputs": [],
   "source": [
    "# PROVINCIALES (candidatos 1562)\n",
    "df_provinciales = pd.read_json('provinciales.json')\n",
    "df_provinciales.to_csv('provinciales.csv')"
   ]
  },
  {
   "cell_type": "code",
   "execution_count": null,
   "metadata": {},
   "outputs": [],
   "source": [
    "# DISTRITALES\n",
    "# primero 19\n",
    "# ultimo 16860\n",
    "df_distritales = pd.read_json('distritales.json')\n",
    "df_distritales.to_csv('distritales.csv')"
   ]
  },
  {
   "cell_type": "code",
   "execution_count": null,
   "metadata": {},
   "outputs": [],
   "source": [
    "# LISTA DE CANDIDATOS\n",
    "\n",
    "for txCodExpedienteExt in df_provinciales['txCodExpedienteExt']:\n",
    "    url = f'https://apiplataformaelectoral3.jne.gob.pe/api/v1/plan-gobierno/candidatos?IdProcesoElectoral=113&TxCodExpedienteExt={txCodExpedienteExt}'\n",
    "    resp = requests.get(url=url, verify=False)\n",
    "    data = resp.json()['data']\n",
    "    if data != []:\n",
    "        df = pd.DataFrame(data)\n",
    "        df['txCodExpedienteExt'] = txCodExpedienteExt\n",
    "        df.to_csv(f\"listas_provinciales/{txCodExpedienteExt}.csv\")"
   ]
  },
  {
   "cell_type": "code",
   "execution_count": null,
   "metadata": {},
   "outputs": [],
   "source": [
    "# CONCATENAR\n",
    "import pandas as pd\n",
    "import glob\n",
    "import os\n",
    "\n",
    "# setting the path for joining multiple files\n",
    "files = os.path.join(\"listas_provinciales\", \"*.csv\")\n",
    "\n",
    "# list of merged files returned\n",
    "files = glob.glob(files)\n",
    "\n",
    "print(\"Resultant CSV after joining all CSV files at a particular location...\");\n",
    "\n",
    "# joining files with concat and read_csv\n",
    "df_candidatos_provincial = pd.concat(map(pd.read_csv, files), ignore_index=True).drop(columns=['Unnamed: 0'])\n",
    "df_candidatos_provincial.to_csv('candidatos_provincial.csv')\n",
    "df_candidatos_provincial"
   ]
  },
  {
   "cell_type": "code",
   "execution_count": null,
   "metadata": {},
   "outputs": [],
   "source": [
    "# LIMPIEZA - verificado\n",
    "df_partidos_provincial = pd.read_csv('partidos_provincial.csv')\n",
    "df_candidatos_provincial_limpio = df_candidatos_provincial[df_candidatos_provincial.txCodExpedienteExt.isin(df_partidos_provincial.txCodExpedienteExt)]\n",
    "df_candidatos_provincial_limpio.to_csv('candidatos_provincial_limpio.csv')"
   ]
  },
  {
   "cell_type": "code",
   "execution_count": null,
   "metadata": {},
   "outputs": [],
   "source": [
    "# ELIMINADOS - verificado\n",
    "df_candidatos_provincial_eliminados = df_candidatos_provincial[~df_candidatos_provincial.txCodExpedienteExt.isin(df_partidos_provincial.txCodExpedienteExt)]\n",
    "df_candidatos_provincial_eliminados.to_csv('candidatos_provincial_eliminados.csv')"
   ]
  },
  {
   "cell_type": "code",
   "execution_count": null,
   "metadata": {},
   "outputs": [],
   "source": [
    "# MERGE\n",
    "df1 = pd.read_csv('candidatos_provincial.csv')\n",
    "df2 = pd.read_csv('partidos_provincial.csv')\n",
    "df_merged = df1.merge(df2, how='inner', on='txCodExpedienteExt').drop(columns=['Unnamed: 0_x', 'designado', 'idProcesoElectoral', 'Unnamed: 0_y', 'txTipoPlan', 'txDistritoElectoral'])\n",
    "df_merged.to_csv('base_datos_provincial_final.csv')"
   ]
  },
  {
   "cell_type": "code",
   "execution_count": 16,
   "metadata": {},
   "outputs": [],
   "source": [
    "# solo gobernadores y vice en regionales y limpiar duplicados\n",
    "df_gobernadores_vicegobernadores_regional = pd.read_csv('base_datos_regional_final.csv')\n",
    "df_gobernadores_vicegobernadores_regional = df_gobernadores_vicegobernadores_regional[df_gobernadores_vicegobernadores_regional['cargo'].isin([\"[\\'GOBERNADOR REGIONAL\\']\", \"[\\'VICEGOBERNADOR REGIONAL\\']\"])].drop(columns=['Unnamed: 0'])\n",
    "df_gobernadores_vicegobernadores_regional.to_csv('solo_gobernadores_y_vicegobernadores.csv', index=False)"
   ]
  },
  {
   "cell_type": "code",
   "execution_count": null,
   "metadata": {},
   "outputs": [],
   "source": [
    "# Numero de partidos: 147\n",
    "df2 = pd.read_csv('partidos_general.csv')\n",
    "numero_partidos = df2['txOrganizacionPolitica'].nunique()\n",
    "numero_partidos"
   ]
  },
  {
   "cell_type": "code",
   "execution_count": null,
   "metadata": {},
   "outputs": [],
   "source": [
    "# Numero de apellidos unicos: 107330 de 135056 DNIs\n",
    "df3 = pd.read_csv('base_datos_final.csv')\n",
    "df3['Apellidos'] = (df3['txNombreCompleto'].str.split().str[-2:].str.join(' '))\n",
    "personas_unicas = df3['txDocumentoIdentidad'].nunique()\n",
    "apellidos_unicos = df3['Apellidos'].nunique()\n",
    "df3.to_csv('base_datos_final.csv')"
   ]
  },
  {
   "cell_type": "code",
   "execution_count": null,
   "metadata": {},
   "outputs": [],
   "source": [
    "# DNI duplicados: 369 registros, 184 personas\n",
    "dni_duplicados = df3[df3['txDocumentoIdentidad'].duplicated(keep=False)]\n",
    "dni_duplicados.to_csv('dni_duplicados.csv')\n",
    "personas_unicas = dni_duplicados['txDocumentoIdentidad'].nunique()\n",
    "personas_unicas\n",
    "moda = dni_duplicados['txDocumentoIdentidad'].mode()\n",
    "moda"
   ]
  },
  {
   "cell_type": "code",
   "execution_count": null,
   "metadata": {},
   "outputs": [],
   "source": [
    "# Elecciones regionales: gobernadores y vice gobernadores\n",
    "df_regionales_gobernadores = pd.read_csv('base_datos_final.csv')\n",
    "df_regionales_gobernadores = df_regionales_gobernadores[df_regionales_gobernadores['txCargoEleccion']=='GOBERNADOR REGIONAL'].reset_index()\n",
    "df_regionales_gobernadores.to_csv('gobernadores_regionales.csv')\n",
    "df_regionales_vicegobernadores = pd.read_csv('base_datos_final.csv')\n",
    "df_regionales_vicegobernadores = df_regionales_vicegobernadores[df_regionales_vicegobernadores['txCargoEleccion']=='VICEGOBERNADOR REGIONAL'].reset_index()\n",
    "df_regionales_vicegobernadores.to_csv('vicegobernadores_regionales.csv')"
   ]
  },
  {
   "cell_type": "code",
   "execution_count": null,
   "metadata": {},
   "outputs": [],
   "source": [
    "# Elecciones provinciales: alcaldes\n",
    "df_provinciales_alcaldes = pd.read_csv('base_datos_final.csv')\n",
    "df_provinciales_alcaldes = df_provinciales_alcaldes[df_provinciales_alcaldes['txCargoEleccion']=='ALCALDE PROVINCIAL'].reset_index()\n",
    "df_provinciales_alcaldes.to_csv('alcaldes_provinciales.csv')"
   ]
  }
 ],
 "metadata": {
  "interpreter": {
   "hash": "916dbcbb3f70747c44a77c7bcd40155683ae19c65e1c03b4aa3499c5328201f1"
  },
  "kernelspec": {
   "display_name": "Python 3.9.7 64-bit",
   "language": "python",
   "name": "python3"
  },
  "language_info": {
   "codemirror_mode": {
    "name": "ipython",
    "version": 3
   },
   "file_extension": ".py",
   "mimetype": "text/x-python",
   "name": "python",
   "nbconvert_exporter": "python",
   "pygments_lexer": "ipython3",
   "version": "3.9.7"
  },
  "orig_nbformat": 4
 },
 "nbformat": 4,
 "nbformat_minor": 2
}
